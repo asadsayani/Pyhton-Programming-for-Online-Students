{
 "cells": [
  {
   "cell_type": "code",
   "execution_count": null,
   "metadata": {},
   "outputs": [
    {
     "name": "stdout",
     "output_type": "stream",
     "text": [
      "Enter numeric value 5\n",
      "Enter operator +\n",
      "Enter numeric value 5\n",
      "5+5= 10\n",
      "Enter numeric value 5\n",
      "Enter operator -\n",
      "Enter numeric value 5\n",
      "5-5= 0\n",
      "Enter numeric value 5\n",
      "Enter operator *\n",
      "Enter numeric value 5\n",
      "5*5= 25\n",
      "Enter numeric value 5\n",
      "Enter operator /\n",
      "Enter numeric value 5\n",
      "5/5= 1.0\n",
      "Enter numeric value 5\n",
      "Enter operator **\n",
      "Enter numeric value 5\n",
      "5^5= 3125\n"
     ]
    }
   ],
   "source": [
    "# Q1 Make a calculator using Python with addition, subtraction, multiplication, division and power.\n",
    "\n",
    "i=2\n",
    "while i not in range(1):\n",
    " num1=int(input(\"Enter numeric value \"))\n",
    " op=input(\"Enter operator \")\n",
    " num2=int(input(\"Enter numeric value \"))\n",
    " if op==\"+\":\n",
    "  print (\"%d+%d=\"%(num1, num2),num1+num2)\n",
    " elif op==\"-\":\n",
    "  print (\"%d-%d=\"%(num1, num2),num1-num2)\n",
    " elif op==\"*\":\n",
    "  print (\"%d*%d=\"%(num1, num2),num1*num2)\n",
    " elif op==\"/\":\n",
    "  print (\"%d/%d=\"%(num1, num2),num1/num2)\n",
    " elif op==\"**\":\n",
    "  print (\"%d^%d=\"%(num1, num2),num1**num2)\n",
    " else:\n",
    "  print(\"Invalid Operator!\")"
   ]
  },
  {
   "cell_type": "code",
   "execution_count": 1,
   "metadata": {},
   "outputs": [
    {
     "name": "stdout",
     "output_type": "stream",
     "text": [
      "Numeric Values are: 1\n",
      "Numeric Values are: 10\n",
      "Numeric Values are: 4\n",
      "Numeric Values are: 50\n"
     ]
    }
   ],
   "source": [
    "# Q2 Write a program to check if there is any numeric value in list using for loop\n",
    "\n",
    "a=[1,10,4,50,\"saad\",\"Faraz\",\"shahnaz\",\"zakir\"]\n",
    "for i in a:\n",
    "    if type(i)==int or type(i)==float:\n",
    "     print(\"Numeric Values are:\",i)"
   ]
  },
  {
   "cell_type": "code",
   "execution_count": 2,
   "metadata": {},
   "outputs": [
    {
     "name": "stdout",
     "output_type": "stream",
     "text": [
      " Enter Key Name\n",
      " Enter values Asad\n",
      "{'Name': 'Asad'}\n"
     ]
    }
   ],
   "source": [
    "# Q3 Write a Python script to add a key to a dictionary\n",
    "\n",
    "dic={}\n",
    "key=input(\" Enter Key \")\n",
    "value=input(\" Enter values \")\n",
    "dic.update({key:value})\n",
    "print(dic)"
   ]
  },
  {
   "cell_type": "code",
   "execution_count": 3,
   "metadata": {},
   "outputs": [
    {
     "name": "stdout",
     "output_type": "stream",
     "text": [
      "Sum of All numeric numbers are: 100\n"
     ]
    }
   ],
   "source": [
    "# Q4 Write a Python program to sum all the numeric items in a dictionary\n",
    "\n",
    "dic={\"a\":\"Asad\",\"b\":\"Haider\",\"c\":40,\"d\":55,\"e\":5}\n",
    "sum=0\n",
    "for i in dic.values():\n",
    "    if type(i)==int:\n",
    "     sum+=i\n",
    "print(\"Sum of All numeric numbers are:\",sum)"
   ]
  },
  {
   "cell_type": "code",
   "execution_count": 4,
   "metadata": {},
   "outputs": [
    {
     "name": "stdout",
     "output_type": "stream",
     "text": [
      "duplicate values are: Pakistan\n",
      "duplicate values are: Newzealand\n"
     ]
    }
   ],
   "source": [
    "# Q5 Write a program to identify duplicate values from list\n",
    "\n",
    "a=[\"Pakistan\",\"Australia\",\"Newzealand\",\"Pakistan\",\"Newzealand\"]\n",
    "for i in range(len(a)):\n",
    " for j in range(i+1,len(a)):\n",
    "  if a[j]==a[i]:\n",
    "   print(\"duplicate values are:\",a[j])"
   ]
  },
  {
   "cell_type": "code",
   "execution_count": null,
   "metadata": {},
   "outputs": [
    {
     "name": "stdout",
     "output_type": "stream",
     "text": [
      "Enter nameAbbas\n",
      "Name is exists\n",
      "Enter nameHaider\n",
      "Name is exists\n",
      "Enter nameAli\n",
      "Not exists\n",
      "Enter nameSamad\n",
      "Not exists\n",
      "Enter nameZain\n",
      "Not exists\n",
      "Enter nameHamza\n",
      "Name is exists\n"
     ]
    }
   ],
   "source": [
    "# Q6 Write a Python script to check if a given key already exists in a dictionary\n",
    "\n",
    "z=2\n",
    "while z not in range(2):\n",
    " dic={\"Name1\":\"Abbas\",\"Name2\":\"Mukhtar\",\"Name3\":\"Haider\",\"Name4\":\"Asad\",\"Name5\":\"Hamza\"}\n",
    " check=input(\"Enter name\")\n",
    " flag=\"\"\n",
    " for i in dic.values():\n",
    "    if i==check:\n",
    "     flag=\"true\"\n",
    " if flag==\"true\":\n",
    "  print(\"Name is exists\")\n",
    " else:\n",
    "  print(\"Not exists\")"
   ]
  },
  {
   "cell_type": "code",
   "execution_count": null,
   "metadata": {},
   "outputs": [],
   "source": []
  }
 ],
 "metadata": {
  "kernelspec": {
   "display_name": "Python 3",
   "language": "python",
   "name": "python3"
  },
  "language_info": {
   "codemirror_mode": {
    "name": "ipython",
    "version": 3
   },
   "file_extension": ".py",
   "mimetype": "text/x-python",
   "name": "python",
   "nbconvert_exporter": "python",
   "pygments_lexer": "ipython3",
   "version": "3.7.4"
  }
 },
 "nbformat": 4,
 "nbformat_minor": 2
}
