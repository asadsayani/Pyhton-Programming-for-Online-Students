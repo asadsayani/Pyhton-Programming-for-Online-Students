{
 "cells": [
  {
   "cell_type": "code",
   "execution_count": 8,
   "metadata": {},
   "outputs": [
    {
     "ename": "SyntaxError",
     "evalue": "invalid syntax (<ipython-input-8-c15f495effc6>, line 4)",
     "output_type": "error",
     "traceback": [
      "\u001b[1;36m  File \u001b[1;32m\"<ipython-input-8-c15f495effc6>\"\u001b[1;36m, line \u001b[1;32m4\u001b[0m\n\u001b[1;33m    Object-oriented programming (OOP) is a programming language model in which programs are organized around data,\u001b[0m\n\u001b[1;37m                              ^\u001b[0m\n\u001b[1;31mSyntaxError\u001b[0m\u001b[1;31m:\u001b[0m invalid syntax\n"
     ]
    }
   ],
   "source": [
    "# Q1 Define Object Oriented Programming Language?\n",
    "# Answer \n",
    "\n",
    "Object-oriented programming (OOP) is a programming language model in which programs are organized around data,\n",
    "or objects, rather than functions and logic. An object can be defined as a data field that has unique attributes\n",
    "and behavior\n",
    "\n",
    "\n",
    "\n",
    "\n",
    "\n"
   ]
  },
  {
   "cell_type": "code",
   "execution_count": 1,
   "metadata": {},
   "outputs": [
    {
     "ename": "SyntaxError",
     "evalue": "invalid syntax (<ipython-input-1-209a3dce32f1>, line 4)",
     "output_type": "error",
     "traceback": [
      "\u001b[1;36m  File \u001b[1;32m\"<ipython-input-1-209a3dce32f1>\"\u001b[1;36m, line \u001b[1;32m4\u001b[0m\n\u001b[1;33m    THE BENEFITS OF OOP ARE FOLLOWING:-\u001b[0m\n\u001b[1;37m               ^\u001b[0m\n\u001b[1;31mSyntaxError\u001b[0m\u001b[1;31m:\u001b[0m invalid syntax\n"
     ]
    }
   ],
   "source": [
    "# Q2 List down the Benefits of OOP?\n",
    "# Answer \n",
    "\n",
    "THE BENEFITS OF OOP ARE FOLLOWING:-\n",
    "•Modularity for easier troubleshooting. Something has gone wrong, and you have no idea where to look. ...\n",
    "•Reuse of code through inheritance. ...\n",
    "•Flexibility through polymorphism. ...\n",
    "•Effective problem solving.\n",
    "\n",
    "\n"
   ]
  },
  {
   "cell_type": "code",
   "execution_count": 3,
   "metadata": {},
   "outputs": [
    {
     "ename": "SyntaxError",
     "evalue": "invalid syntax (<ipython-input-3-abce6dbc3164>, line 5)",
     "output_type": "error",
     "traceback": [
      "\u001b[1;36m  File \u001b[1;32m\"<ipython-input-3-abce6dbc3164>\"\u001b[1;36m, line \u001b[1;32m5\u001b[0m\n\u001b[1;33m    If we have to use a task again and again we write that task in a function and call it when we need it.\u001b[0m\n\u001b[1;37m        ^\u001b[0m\n\u001b[1;31mSyntaxError\u001b[0m\u001b[1;31m:\u001b[0m invalid syntax\n"
     ]
    }
   ],
   "source": [
    "# Q3 Differentiate between function and method?\n",
    "# Answer \n",
    "\n",
    "Function\n",
    "If we have to use a task again and again we write that task in a function and call it when we need it.\n",
    "We can pass arguments when calling a funtion if it takes parameters.\n",
    "In function you have to pass class attributes as parameters else you can use them in function.\n",
    "\n",
    "Method\n",
    "Methods are same as functions there are very few differece in methods and functions which are:\n",
    "1) Methods are written in the scope of class.\n",
    "2) Methods take \"self\" as first parameter , then you know that its a method.\n",
    "3) Self in method takes all the attributes which are defined in class and u can use the attributes in method using self keyword. \n"
   ]
  },
  {
   "cell_type": "code",
   "execution_count": 2,
   "metadata": {},
   "outputs": [
    {
     "ename": "SyntaxError",
     "evalue": "invalid syntax (<ipython-input-2-5b46f60a556a>, line 4)",
     "output_type": "error",
     "traceback": [
      "\u001b[1;36m  File \u001b[1;32m\"<ipython-input-2-5b46f60a556a>\"\u001b[1;36m, line \u001b[1;32m4\u001b[0m\n\u001b[1;33m    CLASS:-\u001b[0m\n\u001b[1;37m           ^\u001b[0m\n\u001b[1;31mSyntaxError\u001b[0m\u001b[1;31m:\u001b[0m invalid syntax\n"
     ]
    }
   ],
   "source": [
    "# Q4 Define the following terms: Class, Object, Attribute & Behavior.\n",
    "# Answer \n",
    "\n",
    "CLASS:-\n",
    "Classes (OOP) In object-oriented programming, a class is a blueprint for creating objects (a particular data structure),\n",
    "providing initial values for state (member variables or attributes), and implementations of behavior (member functions\n",
    "or methods). The user-defined objects are created using the class keyword.\n",
    "\n",
    "OBJECT:-\n",
    "An object, in object-oriented programming (OOP), is an abstract data type created by a developer. It can include\n",
    "multiple properties and methods and may even contain other objects. In most programming languages, objects are defined\n",
    "as classes.\n",
    "\n",
    "ATTRIBUTE:-\n",
    "an attribute is a specification that defines a property of an object, element, or file. It may also refer to or set the \n",
    "specific value for a given instance of such. For clarity, attributes should more correctly be considered metadata.\n",
    "\n",
    "BEHVIOUR:-\n",
    "A class's behavior determines how an instance of that class operates; for example, how it will \"react\" if asked to do \n",
    "something by another class or object or if its internal state changes. Behavior is the only way objects can do anything\n",
    "to themselves or have anything done to them.\n",
    "\n"
   ]
  },
  {
   "cell_type": "code",
   "execution_count": 7,
   "metadata": {},
   "outputs": [
    {
     "name": "stdout",
     "output_type": "stream",
     "text": [
      "this car name is :  Corolla\n",
      "Suzuki\n",
      "rays-313\n"
     ]
    }
   ],
   "source": [
    "# Q5 Write a code in python in which create a class named it Car which have 5 attributes such like (model, color and name etc.) and 3 methods. And create 5 object instance from that class.\n",
    "# Answer \n",
    "\n",
    "class Car:\n",
    "    def __init__(self,model,color,name,company,number):\n",
    "        self.model=model\n",
    "        self.color=color\n",
    "        self.name=name\n",
    "        self.company=company\n",
    "        self.number=number\n",
    "        \n",
    "    def print_name(self):\n",
    "        print(\"this car name is : \",self.name)\n",
    "            \n",
    "    def print_UPdatecompany(self):\n",
    "        self.company=\"Suzuki\"\n",
    "        print(self.company)\n",
    "            \n",
    "    def print_number(self):\n",
    "        print(self.number)\n",
    "            \n",
    "car1=Car('2019','Black','Corolla','Toyota','zzz-1535')\n",
    "car2=Car('2018','white','VIGO','Toyota','rays-313')\n",
    "car3=Car('2017','Red','land Cruiser','Toyota','ppp-112')\n",
    "car4=Car('2016','Blue','Civic','Honda','ytr-25')\n",
    "car5=Car('2015','mate Black','City','Honda','qa-22')\n",
    "\n",
    "\n",
    "\n",
    "car1.print_name()\n",
    "car2.print_UPdatecompany()\n",
    "car2.print_number()\n"
   ]
  },
  {
   "cell_type": "code",
   "execution_count": null,
   "metadata": {},
   "outputs": [],
   "source": []
  }
 ],
 "metadata": {
  "kernelspec": {
   "display_name": "Python 3",
   "language": "python",
   "name": "python3"
  },
  "language_info": {
   "codemirror_mode": {
    "name": "ipython",
    "version": 3
   },
   "file_extension": ".py",
   "mimetype": "text/x-python",
   "name": "python",
   "nbconvert_exporter": "python",
   "pygments_lexer": "ipython3",
   "version": "3.7.4"
  }
 },
 "nbformat": 4,
 "nbformat_minor": 2
}
