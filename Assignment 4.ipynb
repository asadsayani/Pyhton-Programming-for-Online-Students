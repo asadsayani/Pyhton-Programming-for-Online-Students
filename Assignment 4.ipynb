{
 "cells": [
  {
   "cell_type": "code",
   "execution_count": 1,
   "metadata": {},
   "outputs": [
    {
     "name": "stdout",
     "output_type": "stream",
     "text": [
      "Haider\n",
      "Abbas\n",
      "29\n",
      "Quetta\n",
      "B.Com\n",
      "fter update Qualification  Master\n",
      "{'first_name': 'Haider', 'last_name,': 'Abbas', 'age': '29', 'city': 'Quetta'}\n"
     ]
    }
   ],
   "source": [
    "# Q1\n",
    "\n",
    "obj = {\n",
    "    \"first_name\" : \"Haider\",\n",
    "    \"last_name,\" : \"Abbas\",\n",
    "    \"age\":\"29\",\n",
    "    \"city\" : \"Quetta\"\n",
    "}\n",
    "\n",
    "for i in obj.values():\n",
    "    print(i)\n",
    "\n",
    "obj.update({\"Qualification\":\"B.Com\"})\n",
    "\n",
    "print(obj[\"Qualification\"])\n",
    "\n",
    "obj[\"Qualification\"] = \"Master\"\n",
    "print(\"fter update Qualification \",obj[\"Qualification\"])\n",
    "\n",
    "del obj[\"Qualification\"]\n",
    "\n",
    "print(obj)"
   ]
  },
  {
   "cell_type": "code",
   "execution_count": 2,
   "metadata": {},
   "outputs": [
    {
     "name": "stdout",
     "output_type": "stream",
     "text": [
      "Name of city is  Karachi\n",
      "Country Name is :  Pakistan\n",
      "Approximate population is :  15 million\n",
      "Fact of the city is :  Karachi is called mini Pakistan due to its diversified population\n",
      "_______________________________________________________________________________________________\n",
      "Name of city is  Mumbai\n",
      "Country Name is :  India\n",
      "Approximate population is :  18 million approx\n",
      "Fact of the city is :  Dubai is a city & emirate in the United Arab Emirates known for luxury shopping, ultramodren architecture and a lively nightlife scene\n",
      "_______________________________________________________________________________________________\n",
      "Name of city is  Mashhad\n",
      "Country Name is :  Iran\n",
      "Approximate population is :  1.2 million approx\n",
      "Fact of the city is :  Mashhad is famous for its Holy Shrine\n",
      "_______________________________________________________________________________________________\n"
     ]
    }
   ],
   "source": [
    "# Q2\n",
    "\n",
    "city ={\n",
    "    \"Karachi\" : {\n",
    "        \"country\": \"Pakistan\",\n",
    "        \"approximate_population\":\"15 million\",\n",
    "        \"fact\":\"Karachi is called mini Pakistan due to its diversified population\"\n",
    "    },\n",
    "    \"Mumbai\" : {\n",
    "        \"country\": \"India\",\n",
    "        \"approximate_population\":\"18 million approx\",\n",
    "        \"fact\":\"Dubai is a city & emirate in the United Arab Emirates known for luxury shopping, ultramodren architecture and a lively nightlife scene\"\n",
    "    },\n",
    "    \"Mashhad\" : {\n",
    "        \"country\": \"Iran\",\n",
    "        \"approximate_population\":\"1.2 million approx\",\n",
    "        \"fact\":\"Mashhad is famous for its Holy Shrine\"\n",
    "    }\n",
    "}\n",
    "    \n",
    "for i in city.keys():\n",
    "    print(\"Name of city is \", i)\n",
    "    print(\"Country Name is : \" , city[i][\"country\"])\n",
    "    print(\"Approximate population is : \" , city[i][\"approximate_population\"])\n",
    "    print(\"Fact of the city is : \" , city[i][\"fact\"])\n",
    "    print(\"_______________________________________________________________________________________________\")"
   ]
  },
  {
   "cell_type": "code",
   "execution_count": null,
   "metadata": {},
   "outputs": [
    {
     "name": "stdout",
     "output_type": "stream",
     "text": [
      "Welcome To Movie Theater\n",
      "Enter The Age Of Person: 2\n",
      "Your Ticket is Free! Have Fun\n",
      "Enter The Age Of Person: 5\n",
      "Your Ticket price is 10$\n",
      "Enter The Age Of Person: 9\n",
      "Your Ticket price is 10$\n",
      "Enter The Age Of Person: 10\n",
      "Your Ticket price is 10$\n",
      "Enter The Age Of Person: 35\n",
      "Your Ticket price is 15$\n",
      "Enter The Age Of Person: 11\n",
      "Your Ticket price is 10$\n"
     ]
    }
   ],
   "source": [
    "# Q3\n",
    "\n",
    "print(\"Welcome To Movie Theater\")\n",
    "\n",
    "total_price = 0\n",
    "\n",
    "for i in range(1,500):\n",
    "    age = int(input(\"Enter The Age Of Person: \"))\n",
    "    if age <= 3:\n",
    "        print(\"Your Ticket is Free! Have Fun\")\n",
    "    elif age <= 12:\n",
    "        print(\"Your Ticket price is 10$\")\n",
    "        total_price +=10\n",
    "    else:\n",
    "        print(\"Your Ticket price is 15$\")\n",
    "        total_price +=15\n",
    "\n",
    "print(\"Total Amount = \",total_price,\" $ Enjoy Your Movie\")"
   ]
  },
  {
   "cell_type": "code",
   "execution_count": 3,
   "metadata": {},
   "outputs": [
    {
     "name": "stdout",
     "output_type": "stream",
     "text": [
      "Enter The Book Title: Dewaan e Galib\n",
      "One of my favorite books is  Dewaan e Galib\n"
     ]
    }
   ],
   "source": [
    "# Q4\n",
    "\n",
    "def favorite_book(book_name):\n",
    "    print(\"One of my favorite books is \",book_name)\n",
    "    \n",
    "title=input(\"Enter The Book Title: \")\n",
    "\n",
    "favorite_book(title)"
   ]
  },
  {
   "cell_type": "code",
   "execution_count": 4,
   "metadata": {},
   "outputs": [
    {
     "name": "stdout",
     "output_type": "stream",
     "text": [
      "Guess the number between 1 to 30 : 5\n",
      "Your guess is too high\n",
      "Guess the number between 1 to 30 : 9\n",
      "Your guess is too high\n",
      "Guess the number between 1 to 30 : 10\n",
      "Your guess is too high\n",
      "You Loose\n",
      "Correct Number is  1\n"
     ]
    }
   ],
   "source": [
    "# Q5\n",
    "\n",
    "import random\n",
    "\n",
    "random_number = random.randrange(1,30)\n",
    "\n",
    "flag = False\n",
    "\n",
    "for i in range(1,4):\n",
    "    guess = int(input(\"Guess the number between 1 to 30 : \"))\n",
    "    if guess == random_number:\n",
    "        flag = True \n",
    "        break\n",
    "    elif guess < random_number:\n",
    "        print(\"Your guess is too low\")\n",
    "    else:\n",
    "        print(\"Your guess is too high\")\n",
    "        \n",
    "if flag:\n",
    "    print(\"Congratulation you Win!!\")\n",
    "else:\n",
    "    print(\"You Loose\")\n",
    "    print(\"Correct Number is \", random_number)"
   ]
  },
  {
   "cell_type": "code",
   "execution_count": null,
   "metadata": {},
   "outputs": [],
   "source": []
  }
 ],
 "metadata": {
  "kernelspec": {
   "display_name": "Python 3",
   "language": "python",
   "name": "python3"
  },
  "language_info": {
   "codemirror_mode": {
    "name": "ipython",
    "version": 3
   },
   "file_extension": ".py",
   "mimetype": "text/x-python",
   "name": "python",
   "nbconvert_exporter": "python",
   "pygments_lexer": "ipython3",
   "version": "3.7.4"
  }
 },
 "nbformat": 4,
 "nbformat_minor": 2
}
