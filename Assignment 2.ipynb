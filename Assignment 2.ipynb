{
 "cells": [
  {
   "cell_type": "code",
   "execution_count": 9,
   "metadata": {},
   "outputs": [
    {
     "name": "stdout",
     "output_type": "stream",
     "text": [
      "Enter marks of the first subject: 50\n",
      "Enter marks of the second subject: 60\n",
      "Enter marks of the third subject: 80\n",
      "Enter marks of the fourth subject: 90\n",
      "Enter marks of the fifth subject: 015\n",
      "Grade: C\n"
     ]
    }
   ],
   "source": [
    "# Q1 Write a program which takes 5 inputs from user for different subject’s marks, total it and generate mark sheet using grades ?\n",
    "\n",
    "sub1=int(input(\"Enter marks of the first subject: \"))\n",
    "sub2=int(input(\"Enter marks of the second subject: \"))\n",
    "sub3=int(input(\"Enter marks of the third subject: \"))\n",
    "sub4=int(input(\"Enter marks of the fourth subject: \"))\n",
    "sub5=int(input(\"Enter marks of the fifth subject: \"))\n",
    "avg=(sub1+sub2+sub3+sub4+sub4)/5\n",
    "if(avg>=90):\n",
    "    print(\"Grade: A\")\n",
    "elif(avg>=80) :\n",
    "    print(\"Grade: B\")\n",
    "elif(avg>=70) :\n",
    "    print(\"Grade: C\")\n",
    "elif(avg>=60) :\n",
    "    print(\"Grade: D\")\n",
    "else:\n",
    "    print(\"Grade: F\")"
   ]
  },
  {
   "cell_type": "code",
   "execution_count": 16,
   "metadata": {},
   "outputs": [
    {
     "name": "stdout",
     "output_type": "stream",
     "text": [
      "Enter a number: 60\n",
      "This is an even number.\n"
     ]
    }
   ],
   "source": [
    "# Q2 Write a program which take input from user and identify that the given number is even or odd?\n",
    "\n",
    "num = int(input(\"Enter a number: \"))\n",
    "mod = num % 2\n",
    "if mod > 0:\n",
    "    print(\"This is an odd number.\")\n",
    "else:\n",
    "    print(\"This is an even number.\")"
   ]
  },
  {
   "cell_type": "code",
   "execution_count": 15,
   "metadata": {},
   "outputs": [
    {
     "name": "stdout",
     "output_type": "stream",
     "text": [
      "The list is : [1, 2, 93, 24, 15, 6, 57, 68, 59, 90]\n",
      "Length of list using naive method is : 10\n"
     ]
    }
   ],
   "source": [
    "# Q3 Write a program which print the length of the list?\n",
    "\n",
    "# Python code to demonstrate \n",
    "# length of list \n",
    "# using naive method \n",
    "\n",
    "# Initializing list \n",
    "test_list = [ 1, 2, 93, 24, 15, 6, 57, 68, 59, 90 ] \n",
    "\n",
    "# Printing test_list \n",
    "print (\"The list is : \" + str(test_list)) \n",
    "\n",
    "# Finding length of list \n",
    "# using loop \n",
    "# Initializing counter \n",
    "counter = 0\n",
    "for i in test_list: \n",
    "\t\n",
    "\t# incrementing counter \n",
    "\tcounter = counter + 1\n",
    "\n",
    "# Printing length of list \n",
    "print (\"Length of list using naive method is : \" + str(counter)) "
   ]
  },
  {
   "cell_type": "code",
   "execution_count": 4,
   "metadata": {},
   "outputs": [
    {
     "name": "stdout",
     "output_type": "stream",
     "text": [
      "How many digits you want to total: 2\n",
      "Enter number 60\n",
      "Enter number 90\n",
      "Sum of elements in given list is : 150\n"
     ]
    }
   ],
   "source": [
    "# Q4 Write a Python program to sum all the numeric items in a list?\n",
    "\n",
    "lst = []\n",
    "num = int(input('How many digits you want to total: '))\n",
    "for n in range(num):\n",
    "    numbers = int(input('Enter number '))\n",
    "    lst.append(numbers)\n",
    "print(\"Sum of elements in given list is :\", sum(lst))"
   ]
  },
  {
   "cell_type": "code",
   "execution_count": 8,
   "metadata": {},
   "outputs": [
    {
     "name": "stdout",
     "output_type": "stream",
     "text": [
      "How many numbers: 2\n",
      "Enter number 33\n",
      "Enter number 55\n",
      "Maximum element in the list is : 55 \n",
      "Minimum element in the list is : 33\n"
     ]
    }
   ],
   "source": [
    "# Q5 Write a Python program to get the largest number from a numeric list.\n",
    "\n",
    "lst = []\n",
    "num = int(input('How many numbers: '))\n",
    "for n in range(num):\n",
    "    numbers = int(input('Enter number '))\n",
    "    lst.append(numbers)\n",
    "print(\"Maximum element in the list is :\", max(lst), \"\\nMinimum element in the list is :\", min(lst))"
   ]
  },
  {
   "cell_type": "code",
   "execution_count": 17,
   "metadata": {},
   "outputs": [
    {
     "name": "stdout",
     "output_type": "stream",
     "text": [
      "1\n",
      "1.2\n",
      "2.5\n",
      "2.1\n",
      "3.9\n",
      "3.4\n",
      "4.8\n"
     ]
    }
   ],
   "source": [
    "# Q6 Take a list, say for example this one: a = [1, 1, 2, 3, 5, 8, 13, 21, 34, 55, 89] and write a program that prints out all the elements of the list that are less than 5.\n",
    "\n",
    "a = [1, 1.2, 2.5, 2.1, 3.9, 3.4, 4.8, 5, 8, 13, 21, 34, 55, 89]\n",
    "\n",
    "for i in a:\n",
    "\n",
    "    if i < 5:\n",
    "\n",
    "        print(i)"
   ]
  },
  {
   "cell_type": "code",
   "execution_count": null,
   "metadata": {},
   "outputs": [],
   "source": []
  }
 ],
 "metadata": {
  "kernelspec": {
   "display_name": "Python 3",
   "language": "python",
   "name": "python3"
  },
  "language_info": {
   "codemirror_mode": {
    "name": "ipython",
    "version": 3
   },
   "file_extension": ".py",
   "mimetype": "text/x-python",
   "name": "python",
   "nbconvert_exporter": "python",
   "pygments_lexer": "ipython3",
   "version": "3.7.4"
  }
 },
 "nbformat": 4,
 "nbformat_minor": 2
}
